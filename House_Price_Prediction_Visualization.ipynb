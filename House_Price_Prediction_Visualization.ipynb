{
 "cells": [
  {
   "cell_type": "code",
   "execution_count": null,
   "metadata": {},
   "outputs": [],
   "source": [
    "import pandas as pd\n",
    "import numpy as np\n",
    "import matplotlib.pyplot as plt\n",
    "import seaborn as sns\n",
    "import csv"
   ]
  },
  {
   "cell_type": "code",
   "execution_count": null,
   "metadata": {},
   "outputs": [],
   "source": [
    "House_Data = pd.read_csv('Htrain.csv')"
   ]
  },
  {
   "cell_type": "code",
   "execution_count": null,
   "metadata": {},
   "outputs": [],
   "source": [
    "House_Data.head()"
   ]
  },
  {
   "cell_type": "code",
   "execution_count": null,
   "metadata": {},
   "outputs": [],
   "source": [
    "sns.boxplot(x='YrSold', y='SalePrice', data=House_Data)\n",
    "plt.xticks(rotation=60)\n",
    "plt.title('Sale Price Vs Years')"
   ]
  },
  {
   "cell_type": "code",
   "execution_count": null,
   "metadata": {},
   "outputs": [],
   "source": [
    "#Inference : Year on Year, the prices are more or less constant"
   ]
  },
  {
   "cell_type": "code",
   "execution_count": null,
   "metadata": {},
   "outputs": [],
   "source": [
    "sns.boxplot(x='YrSold', y='SalePrice', data=House_Data, hue='MSZoning')\n",
    "plt.xticks(rotation=60)\n",
    "plt.title('Sale Price Over the years in different zones')"
   ]
  },
  {
   "cell_type": "code",
   "execution_count": null,
   "metadata": {},
   "outputs": [],
   "source": [
    "#Inference : The RH (Residential High density) areas has higher price and range as well. The FV (Floating village) \n",
    "areas also command higher price"
   ]
  },
  {
   "cell_type": "code",
   "execution_count": null,
   "metadata": {},
   "outputs": [],
   "source": [
    "sns.boxplot(x='SaleCondition', y='SalePrice', data=House_Data)\n",
    "plt.title('SalePrice Vs Condition of the House')"
   ]
  },
  {
   "cell_type": "code",
   "execution_count": null,
   "metadata": {},
   "outputs": [],
   "source": [
    "#The houses that are not completed (Partial) commanding a high price and the range is also wider"
   ]
  },
  {
   "cell_type": "code",
   "execution_count": null,
   "metadata": {},
   "outputs": [],
   "source": [
    "House_Data_N = House_Data[['SalePrice', 'Neighborhood']]\n",
    "sns.barplot(x='Neighborhood', y='SalePrice', data=House_Data_N)\n",
    "plt.xticks(rotation=60)\n",
    "plt.show()"
   ]
  },
  {
   "cell_type": "code",
   "execution_count": null,
   "metadata": {},
   "outputs": [],
   "source": [
    "#Inference : NoRidge Neighborhood, NridgHt Neighbourhood and StoneBr Neighborhood command higher price "
   ]
  },
  {
   "cell_type": "code",
   "execution_count": null,
   "metadata": {},
   "outputs": [],
   "source": [
    "sns.scatterplot(x='YearBuilt', y='SalePrice', data=House_Data)\n",
    "plt.title('SalePrice Vs Age of the House')"
   ]
  },
  {
   "cell_type": "code",
   "execution_count": null,
   "metadata": {},
   "outputs": [],
   "source": [
    "#Inference : Newer the house, higher is the price"
   ]
  },
  {
   "cell_type": "code",
   "execution_count": null,
   "metadata": {},
   "outputs": [],
   "source": [
    "sns.barplot(x='RoofStyle', y='SalePrice', data=House_Data)\n",
    "plt.title('SalePrice Vs RoofStyle')"
   ]
  },
  {
   "cell_type": "code",
   "execution_count": null,
   "metadata": {},
   "outputs": [],
   "source": [
    "#Inference : For Hip & Shed, higher is the price"
   ]
  },
  {
   "cell_type": "code",
   "execution_count": null,
   "metadata": {},
   "outputs": [],
   "source": [
    "sns.barplot(x='MSSubClass', y='SalePrice', data=House_Data)\n",
    "plt.title('SalePrice Vs Type of the Dwelling')"
   ]
  },
  {
   "cell_type": "code",
   "execution_count": null,
   "metadata": {},
   "outputs": [],
   "source": [
    "#Inference : SalePrice is more for dwelling type 60 ie 2 storey 1946 & newer"
   ]
  },
  {
   "cell_type": "code",
   "execution_count": null,
   "metadata": {},
   "outputs": [],
   "source": [
    "sns.scatterplot(x='LotFrontage', y='SalePrice', data=House_Data)\n",
    "plt.title('SalePrice Vs Linear feet of street connected to the Dwelling')"
   ]
  },
  {
   "cell_type": "code",
   "execution_count": null,
   "metadata": {},
   "outputs": [],
   "source": [
    "#Inference : If the frontstreet is wider, higher is the price"
   ]
  },
  {
   "cell_type": "code",
   "execution_count": null,
   "metadata": {},
   "outputs": [],
   "source": [
    "x = House_Data['SalePrice']\n",
    "plt.axes([0,0,0.7,0.9])\n",
    "sns.distplot(x, bins=20, kde=False)\n",
    "plt.title('Distribution of SalePrice')\n",
    "plt.ylim([0,400])\n",
    "plt.xticks(rotation=60)"
   ]
  },
  {
   "cell_type": "code",
   "execution_count": null,
   "metadata": {},
   "outputs": [],
   "source": [
    "#Inference : Sale Price in the range of 150K to 170K has high demand"
   ]
  },
  {
   "cell_type": "code",
   "execution_count": null,
   "metadata": {},
   "outputs": [],
   "source": [
    "sns.barplot(x='LotShape', y='SalePrice', data=House_Data)\n",
    "plt.title('SalePrice Vs Lot Shape')"
   ]
  },
  {
   "cell_type": "code",
   "execution_count": null,
   "metadata": {},
   "outputs": [],
   "source": [
    "#Inference : IR2 - moderately irregular shape of the property command more price"
   ]
  },
  {
   "cell_type": "code",
   "execution_count": null,
   "metadata": {},
   "outputs": [],
   "source": [
    "sns.barplot(x='LandContour', y='SalePrice', data=House_Data)\n",
    "plt.title('SalePrice Vs Flatness of the property')"
   ]
  },
  {
   "cell_type": "code",
   "execution_count": null,
   "metadata": {},
   "outputs": [],
   "source": [
    "#Inference : Hill side property command higher sale price"
   ]
  },
  {
   "cell_type": "code",
   "execution_count": null,
   "metadata": {},
   "outputs": [],
   "source": [
    "sns.barplot(x='Condition1', y='SalePrice', data=House_Data)\n",
    "plt.title('SalePrice Vs Proximity to various conditions')"
   ]
  },
  {
   "cell_type": "code",
   "execution_count": null,
   "metadata": {},
   "outputs": [],
   "source": [
    "#PosA condition (Adjacent to Positive off-site feature) higher is the price"
   ]
  },
  {
   "cell_type": "code",
   "execution_count": null,
   "metadata": {},
   "outputs": [],
   "source": [
    "sns.barplot(x='BldgType', y='SalePrice', data=House_Data)\n",
    "plt.title('SalePrice Vs Type of the building')"
   ]
  },
  {
   "cell_type": "code",
   "execution_count": null,
   "metadata": {},
   "outputs": [],
   "source": [
    "#Inference : Single-family Detached & Townhouse End Unit has higher sale price"
   ]
  },
  {
   "cell_type": "code",
   "execution_count": null,
   "metadata": {},
   "outputs": [],
   "source": [
    "sns.lineplot(x='HouseStyle', y='SalePrice', data=House_Data)\n",
    "plt.title('SalePrice Vs Style of dwelling')"
   ]
  },
  {
   "cell_type": "code",
   "execution_count": null,
   "metadata": {},
   "outputs": [],
   "source": [
    "#Inference : 1 and 2.5 storey (with level 2 finished) building command more price"
   ]
  },
  {
   "cell_type": "code",
   "execution_count": null,
   "metadata": {},
   "outputs": [],
   "source": [
    "sns.barplot(x='OverallQual', y='SalePrice', data=House_Data)\n",
    "plt.title('SalePrice Vs Overall Quality of dwelling')"
   ]
  },
  {
   "cell_type": "code",
   "execution_count": null,
   "metadata": {},
   "outputs": [],
   "source": [
    "#Inference : Overall quality higher, higher is the sale price"
   ]
  },
  {
   "cell_type": "code",
   "execution_count": null,
   "metadata": {},
   "outputs": [],
   "source": [
    "sns.lineplot(x='RoofMatl', y='SalePrice', data=House_Data)\n",
    "plt.title('SalePrice Vs Roof Material of dwelling')\n",
    "plt.xticks(rotation=60)"
   ]
  },
  {
   "cell_type": "code",
   "execution_count": null,
   "metadata": {},
   "outputs": [],
   "source": [
    "#Inference: Price is higher for wood Shingle"
   ]
  },
  {
   "cell_type": "code",
   "execution_count": null,
   "metadata": {},
   "outputs": [],
   "source": [
    "sns.barplot(x='Exterior1st', y='SalePrice', data=House_Data)\n",
    "plt.title('SalePrice Vs Exterior Covering of dwelling')\n",
    "plt.xticks(rotation=60)"
   ]
  },
  {
   "cell_type": "code",
   "execution_count": null,
   "metadata": {},
   "outputs": [],
   "source": [
    "#Inferece : Price is higher for stone and ImStrucc"
   ]
  },
  {
   "cell_type": "code",
   "execution_count": null,
   "metadata": {},
   "outputs": [],
   "source": [
    "sns.lineplot(x='ExterQual', y='SalePrice', data=House_Data)\n",
    "plt.title('SalePrice Vs Quality of the material on the exterior of dwelling')\n",
    "plt.xticks(rotation=60)"
   ]
  },
  {
   "cell_type": "code",
   "execution_count": null,
   "metadata": {},
   "outputs": [],
   "source": [
    "#Inference : if the quality of external material is excellent, price is higher."
   ]
  },
  {
   "cell_type": "code",
   "execution_count": null,
   "metadata": {},
   "outputs": [],
   "source": [
    "sns.barplot(x='ExterCond', y='SalePrice', data=House_Data)\n",
    "plt.title('SalePrice Vs Present condition of the material on the exterior of dwelling')\n",
    "plt.xticks(rotation=60)"
   ]
  },
  {
   "cell_type": "code",
   "execution_count": null,
   "metadata": {},
   "outputs": [],
   "source": [
    "#Inference : If the condition is excellent, higher is the sale price"
   ]
  }
 ],
 "metadata": {
  "kernelspec": {
   "display_name": "Python 3",
   "language": "python",
   "name": "python3"
  },
  "language_info": {
   "codemirror_mode": {
    "name": "ipython",
    "version": 3
   },
   "file_extension": ".py",
   "mimetype": "text/x-python",
   "name": "python",
   "nbconvert_exporter": "python",
   "pygments_lexer": "ipython3",
   "version": "3.7.3"
  }
 },
 "nbformat": 4,
 "nbformat_minor": 2
}
